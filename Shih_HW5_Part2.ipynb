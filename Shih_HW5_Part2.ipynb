{
 "cells": [
  {
   "cell_type": "code",
   "execution_count": 1,
   "metadata": {},
   "outputs": [],
   "source": [
    "import pandas as pd"
   ]
  },
  {
   "cell_type": "code",
   "execution_count": 2,
   "metadata": {},
   "outputs": [],
   "source": [
    "import geopandas"
   ]
  },
  {
   "cell_type": "code",
   "execution_count": 3,
   "metadata": {},
   "outputs": [],
   "source": [
    "import fiona"
   ]
  },
  {
   "cell_type": "code",
   "execution_count": 4,
   "metadata": {},
   "outputs": [],
   "source": [
    "import matplotlib"
   ]
  },
  {
   "cell_type": "code",
   "execution_count": 5,
   "metadata": {},
   "outputs": [],
   "source": [
    "# From MassGIS - MBTA bus routes\n",
    "busroutes = geopandas.read_file('MBTABUSROUTES_ARC.shp')"
   ]
  },
  {
   "cell_type": "code",
   "execution_count": 6,
   "metadata": {},
   "outputs": [
    {
     "data": {
      "text/plain": [
       "geopandas.geodataframe.GeoDataFrame"
      ]
     },
     "execution_count": 6,
     "metadata": {},
     "output_type": "execute_result"
    }
   ],
   "source": [
    "type(busroutes)"
   ]
  },
  {
   "cell_type": "code",
   "execution_count": 7,
   "metadata": {},
   "outputs": [
    {
     "data": {
      "text/html": [
       "<div>\n",
       "<style scoped>\n",
       "    .dataframe tbody tr th:only-of-type {\n",
       "        vertical-align: middle;\n",
       "    }\n",
       "\n",
       "    .dataframe tbody tr th {\n",
       "        vertical-align: top;\n",
       "    }\n",
       "\n",
       "    .dataframe thead th {\n",
       "        text-align: right;\n",
       "    }\n",
       "</style>\n",
       "<table border=\"1\" class=\"dataframe\">\n",
       "  <thead>\n",
       "    <tr style=\"text-align: right;\">\n",
       "      <th></th>\n",
       "      <th>SHAPE_ID</th>\n",
       "      <th>MBTA_ROUTE</th>\n",
       "      <th>MBTA_VARIA</th>\n",
       "      <th>MBTA_ROU_1</th>\n",
       "      <th>CTPS_ROUTE</th>\n",
       "      <th>CTPS_ROU_1</th>\n",
       "      <th>DIRECTION</th>\n",
       "      <th>ROUTE_DESC</th>\n",
       "      <th>TRIP_HEADS</th>\n",
       "      <th>CTPS_ROU_2</th>\n",
       "      <th>SHAPE_LEN</th>\n",
       "      <th>geometry</th>\n",
       "    </tr>\n",
       "  </thead>\n",
       "  <tbody>\n",
       "    <tr>\n",
       "      <th>0</th>\n",
       "      <td>160025</td>\n",
       "      <td>16</td>\n",
       "      <td>2</td>\n",
       "      <td>16_2</td>\n",
       "      <td>16</td>\n",
       "      <td>16.0</td>\n",
       "      <td>1</td>\n",
       "      <td>Route 16_2 inbound</td>\n",
       "      <td>UMass</td>\n",
       "      <td>16201</td>\n",
       "      <td>11447.693160</td>\n",
       "      <td>LINESTRING (231866.335 894511.836, 231854.966 ...</td>\n",
       "    </tr>\n",
       "    <tr>\n",
       "      <th>1</th>\n",
       "      <td>160003</td>\n",
       "      <td>16</td>\n",
       "      <td>3</td>\n",
       "      <td>16_3</td>\n",
       "      <td>16</td>\n",
       "      <td>16.0</td>\n",
       "      <td>1</td>\n",
       "      <td>Route 16_3 inbound</td>\n",
       "      <td>Andrew</td>\n",
       "      <td>16301</td>\n",
       "      <td>7182.299738</td>\n",
       "      <td>LINESTRING (231866.335 894511.836, 231854.966 ...</td>\n",
       "    </tr>\n",
       "    <tr>\n",
       "      <th>2</th>\n",
       "      <td>050009</td>\n",
       "      <td>05</td>\n",
       "      <td>_</td>\n",
       "      <td>05_</td>\n",
       "      <td>5</td>\n",
       "      <td>5.0</td>\n",
       "      <td>0</td>\n",
       "      <td>Route 05_ outbound</td>\n",
       "      <td>City Point</td>\n",
       "      <td>5000</td>\n",
       "      <td>6566.593988</td>\n",
       "      <td>LINESTRING (236875.676 897653.501, 236875.838 ...</td>\n",
       "    </tr>\n",
       "    <tr>\n",
       "      <th>3</th>\n",
       "      <td>070011</td>\n",
       "      <td>07</td>\n",
       "      <td>2</td>\n",
       "      <td>07_2</td>\n",
       "      <td>7</td>\n",
       "      <td>7.0</td>\n",
       "      <td>0</td>\n",
       "      <td>Route 07_2 outbound</td>\n",
       "      <td>City Point via East First St</td>\n",
       "      <td>7200</td>\n",
       "      <td>3152.476054</td>\n",
       "      <td>LINESTRING (236371.249 900507.531, 236360.463 ...</td>\n",
       "    </tr>\n",
       "    <tr>\n",
       "      <th>4</th>\n",
       "      <td>080015</td>\n",
       "      <td>08</td>\n",
       "      <td>9</td>\n",
       "      <td>08_9</td>\n",
       "      <td>8</td>\n",
       "      <td>8.0</td>\n",
       "      <td>0</td>\n",
       "      <td>Route 08_9 outbound</td>\n",
       "      <td>Harbor Point via South Bay Center</td>\n",
       "      <td>8900</td>\n",
       "      <td>15339.996640</td>\n",
       "      <td>LINESTRING (233318.701 899904.902, 233323.933 ...</td>\n",
       "    </tr>\n",
       "  </tbody>\n",
       "</table>\n",
       "</div>"
      ],
      "text/plain": [
       "  SHAPE_ID MBTA_ROUTE MBTA_VARIA MBTA_ROU_1  CTPS_ROUTE  CTPS_ROU_1  \\\n",
       "0   160025         16          2       16_2          16        16.0   \n",
       "1   160003         16          3       16_3          16        16.0   \n",
       "2   050009         05          _        05_           5         5.0   \n",
       "3   070011         07          2       07_2           7         7.0   \n",
       "4   080015         08          9       08_9           8         8.0   \n",
       "\n",
       "   DIRECTION           ROUTE_DESC                         TRIP_HEADS  \\\n",
       "0          1   Route 16_2 inbound                              UMass   \n",
       "1          1   Route 16_3 inbound                             Andrew   \n",
       "2          0   Route 05_ outbound                         City Point   \n",
       "3          0  Route 07_2 outbound       City Point via East First St   \n",
       "4          0  Route 08_9 outbound  Harbor Point via South Bay Center   \n",
       "\n",
       "   CTPS_ROU_2     SHAPE_LEN                                           geometry  \n",
       "0       16201  11447.693160  LINESTRING (231866.335 894511.836, 231854.966 ...  \n",
       "1       16301   7182.299738  LINESTRING (231866.335 894511.836, 231854.966 ...  \n",
       "2        5000   6566.593988  LINESTRING (236875.676 897653.501, 236875.838 ...  \n",
       "3        7200   3152.476054  LINESTRING (236371.249 900507.531, 236360.463 ...  \n",
       "4        8900  15339.996640  LINESTRING (233318.701 899904.902, 233323.933 ...  "
      ]
     },
     "execution_count": 7,
     "metadata": {},
     "output_type": "execute_result"
    }
   ],
   "source": [
    "busroutes.head()"
   ]
  },
  {
   "cell_type": "code",
   "execution_count": 16,
   "metadata": {},
   "outputs": [
    {
     "data": {
      "text/plain": [
       "<AxesSubplot:>"
      ]
     },
     "execution_count": 16,
     "metadata": {},
     "output_type": "execute_result"
    },
    {
     "data": {
      "image/png": "[encoded data removed]",
      "text/plain": [
       "<Figure size 432x288 with 1 Axes>"
      ]
     },
     "metadata": {
      "needs_background": "light"
     },
     "output_type": "display_data"
    }
   ],
   "source": [
    "busroutes.plot()"
   ]
  },
  {
   "cell_type": "code",
   "execution_count": 9,
   "metadata": {},
   "outputs": [],
   "source": [
    "# From MassGIS Acute care hospitals shapefile\n",
    "hospitals = geopandas.read_file('HOSPITALS_PT.shp')"
   ]
  },
  {
   "cell_type": "code",
   "execution_count": 10,
   "metadata": {},
   "outputs": [
    {
     "data": {
      "text/html": [
       "<div>\n",
       "<style scoped>\n",
       "    .dataframe tbody tr th:only-of-type {\n",
       "        vertical-align: middle;\n",
       "    }\n",
       "\n",
       "    .dataframe tbody tr th {\n",
       "        vertical-align: top;\n",
       "    }\n",
       "\n",
       "    .dataframe thead th {\n",
       "        text-align: right;\n",
       "    }\n",
       "</style>\n",
       "<table border=\"1\" class=\"dataframe\">\n",
       "  <thead>\n",
       "    <tr style=\"text-align: right;\">\n",
       "      <th></th>\n",
       "      <th>IDNUMBER</th>\n",
       "      <th>DPHID</th>\n",
       "      <th>NAME</th>\n",
       "      <th>SHORTNAME</th>\n",
       "      <th>ADDRESS</th>\n",
       "      <th>TOWN</th>\n",
       "      <th>GEOG_TOWN</th>\n",
       "      <th>ZIPCODE</th>\n",
       "      <th>CHIAREGION</th>\n",
       "      <th>TELEPHONE</th>\n",
       "      <th>...</th>\n",
       "      <th>TAXSTATUS</th>\n",
       "      <th>BEDCOUNT</th>\n",
       "      <th>ER_STATUS</th>\n",
       "      <th>TRAUMA_ADU</th>\n",
       "      <th>TRAUMA_PED</th>\n",
       "      <th>SPEPUBFUND</th>\n",
       "      <th>FYE</th>\n",
       "      <th>MADID</th>\n",
       "      <th>EMSREGION</th>\n",
       "      <th>geometry</th>\n",
       "    </tr>\n",
       "  </thead>\n",
       "  <tbody>\n",
       "    <tr>\n",
       "      <th>0</th>\n",
       "      <td>2069</td>\n",
       "      <td>2069</td>\n",
       "      <td>Beth Israel Deaconess Medical Center East</td>\n",
       "      <td>BIDMC East</td>\n",
       "      <td>330 Brookline Avenue</td>\n",
       "      <td>Boston</td>\n",
       "      <td>BOSTON</td>\n",
       "      <td>02215</td>\n",
       "      <td>Metro Boston</td>\n",
       "      <td>(617) 667-7000</td>\n",
       "      <td>...</td>\n",
       "      <td>Non-profit</td>\n",
       "      <td>248</td>\n",
       "      <td>N</td>\n",
       "      <td>None</td>\n",
       "      <td>None</td>\n",
       "      <td>Not Applicable</td>\n",
       "      <td>2017-09-30</td>\n",
       "      <td>35022096</td>\n",
       "      <td>4</td>\n",
       "      <td>POINT (232494.091 898890.122)</td>\n",
       "    </tr>\n",
       "    <tr>\n",
       "      <th>1</th>\n",
       "      <td>2085</td>\n",
       "      <td>2085</td>\n",
       "      <td>Steward St. Elizabeth's Medical Center</td>\n",
       "      <td>St. Elizabeth's Medical Center</td>\n",
       "      <td>736 Cambridge Street</td>\n",
       "      <td>Brighton</td>\n",
       "      <td>BOSTON</td>\n",
       "      <td>02135</td>\n",
       "      <td>Metro Boston</td>\n",
       "      <td>(617) 789-3000</td>\n",
       "      <td>...</td>\n",
       "      <td>For profit</td>\n",
       "      <td>252</td>\n",
       "      <td>Y</td>\n",
       "      <td>None</td>\n",
       "      <td>None</td>\n",
       "      <td>Not Applicable</td>\n",
       "      <td>2017-12-31</td>\n",
       "      <td>35156980</td>\n",
       "      <td>4</td>\n",
       "      <td>POINT (229003.958 899958.291)</td>\n",
       "    </tr>\n",
       "    <tr>\n",
       "      <th>2</th>\n",
       "      <td>2299</td>\n",
       "      <td>2299</td>\n",
       "      <td>Tufts Medical Center</td>\n",
       "      <td>Tufts Medical Center</td>\n",
       "      <td>800 Washington Street</td>\n",
       "      <td>Boston</td>\n",
       "      <td>BOSTON</td>\n",
       "      <td>02111</td>\n",
       "      <td>Metro Boston</td>\n",
       "      <td>(617) 636-5000</td>\n",
       "      <td>...</td>\n",
       "      <td>Non-profit</td>\n",
       "      <td>415</td>\n",
       "      <td>Y</td>\n",
       "      <td>Level 1</td>\n",
       "      <td>Level 1</td>\n",
       "      <td>Not Applicable</td>\n",
       "      <td>2017-09-30</td>\n",
       "      <td>35145764</td>\n",
       "      <td>4</td>\n",
       "      <td>POINT (235963.109 899998.149)</td>\n",
       "    </tr>\n",
       "  </tbody>\n",
       "</table>\n",
       "<p>3 rows × 22 columns</p>\n",
       "</div>"
      ],
      "text/plain": [
       "  IDNUMBER  DPHID                                       NAME  \\\n",
       "0     2069   2069  Beth Israel Deaconess Medical Center East   \n",
       "1     2085   2085     Steward St. Elizabeth's Medical Center   \n",
       "2     2299   2299                       Tufts Medical Center   \n",
       "\n",
       "                        SHORTNAME                ADDRESS      TOWN GEOG_TOWN  \\\n",
       "0                      BIDMC East   330 Brookline Avenue    Boston    BOSTON   \n",
       "1  St. Elizabeth's Medical Center   736 Cambridge Street  Brighton    BOSTON   \n",
       "2            Tufts Medical Center  800 Washington Street    Boston    BOSTON   \n",
       "\n",
       "  ZIPCODE    CHIAREGION       TELEPHONE  ...   TAXSTATUS BEDCOUNT ER_STATUS  \\\n",
       "0   02215  Metro Boston  (617) 667-7000  ...  Non-profit      248         N   \n",
       "1   02135  Metro Boston  (617) 789-3000  ...  For profit      252         Y   \n",
       "2   02111  Metro Boston  (617) 636-5000  ...  Non-profit      415         Y   \n",
       "\n",
       "   TRAUMA_ADU TRAUMA_PED      SPEPUBFUND         FYE     MADID EMSREGION  \\\n",
       "0        None       None  Not Applicable  2017-09-30  35022096         4   \n",
       "1        None       None  Not Applicable  2017-12-31  35156980         4   \n",
       "2     Level 1    Level 1  Not Applicable  2017-09-30  35145764         4   \n",
       "\n",
       "                        geometry  \n",
       "0  POINT (232494.091 898890.122)  \n",
       "1  POINT (229003.958 899958.291)  \n",
       "2  POINT (235963.109 899998.149)  \n",
       "\n",
       "[3 rows x 22 columns]"
      ]
     },
     "execution_count": 10,
     "metadata": {},
     "output_type": "execute_result"
    }
   ],
   "source": [
    "hospitals.head(3)"
   ]
  },
  {
   "cell_type": "code",
   "execution_count": 12,
   "metadata": {},
   "outputs": [],
   "source": [
    "df_hosp = pd.DataFrame(hospitals.head(10))"
   ]
  },
  {
   "cell_type": "code",
   "execution_count": 17,
   "metadata": {},
   "outputs": [
    {
     "data": {
      "image/png": "[encoded data removed]",
      "text/plain": [
       "<Figure size 432x288 with 1 Axes>"
      ]
     },
     "metadata": {
      "needs_background": "light"
     },
     "output_type": "display_data"
    }
   ],
   "source": [
    "ax = df_hosp.plot.bar(x = 'SHORTNAME', y='BEDCOUNT')"
   ]
  },
  {
   "cell_type": "code",
   "execution_count": 18,
   "metadata": {},
   "outputs": [
    {
     "data": {
      "text/plain": [
       "<AxesSubplot:>"
      ]
     },
     "execution_count": 18,
     "metadata": {},
     "output_type": "execute_result"
    },
    {
     "data": {
      "image/png": "[encoded data removed]",
      "text/plain": [
       "<Figure size 432x288 with 1 Axes>"
      ]
     },
     "metadata": {
      "needs_background": "light"
     },
     "output_type": "display_data"
    }
   ],
   "source": [
    "hospitals.plot()"
   ]
  },
  {
   "cell_type": "code",
   "execution_count": null,
   "metadata": {},
   "outputs": [],
   "source": []
  }
 ],
 "metadata": {
  "kernelspec": {
   "display_name": "geo_env",
   "language": "python",
   "name": "geo_env"
  },
  "language_info": {
   "codemirror_mode": {
    "name": "ipython",
    "version": 3
   },
   "file_extension": ".py",
   "mimetype": "text/x-python",
   "name": "python",
   "nbconvert_exporter": "python",
   "pygments_lexer": "ipython3",
   "version": "3.7.8"
  }
 },
 "nbformat": 4,
 "nbformat_minor": 4
}
